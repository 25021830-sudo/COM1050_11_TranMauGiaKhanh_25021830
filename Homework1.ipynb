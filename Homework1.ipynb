{
 "cells": [
  {
   "cell_type": "code",
   "id": "initial_id",
   "metadata": {
    "collapsed": true,
    "ExecuteTime": {
     "end_time": "2025-10-06T07:52:13.776104Z",
     "start_time": "2025-10-06T07:52:10.842214Z"
    }
   },
   "source": [
    "#1\n",
    "a = int(input(\"nhập 1 số nguyên\"))\n",
    "print(\"2a = \", a*2)"
   ],
   "outputs": [
    {
     "name": "stdout",
     "output_type": "stream",
     "text": [
      "2a =  10\n"
     ]
    }
   ],
   "execution_count": 1
  },
  {
   "metadata": {
    "ExecuteTime": {
     "end_time": "2025-10-06T07:52:22.616281Z",
     "start_time": "2025-10-06T07:52:15.544096Z"
    }
   },
   "cell_type": "code",
   "source": [
    "#2\n",
    "pi = 3.14\n",
    "def ket_qua():\n",
    "    while True:\n",
    "        try:\n",
    "            a, b = map(float, input(\"Nhập chiều rộng a và chiều dài b\").split())\n",
    "            if a < b and a>0 and b>0:\n",
    "                return\n",
    "                print(\"Chiều rộng :\", a)\n",
    "                print(\"Chiều dài :\", b)\n",
    "                hinh_chu_nhat = a * b\n",
    "                print(\"Diện tích thửa đất là : a.b = \", hinh_chu_nhat)\n",
    "                hinh_tron = pi * ((a / 2) ** 2)\n",
    "                print(\"Diện tích hình tròn là :\", hinh_tron)\n",
    "                print(\"Diện tích trồng cây là :\", hinh_chu_nhat, \"-\", hinh_tron, \"=\",\"%.2f\" % (hinh_chu_nhat - hinh_tron))\n",
    "                break\n",
    "\n",
    "            else:\n",
    "                print(\"Nhập lại a và b sao cho thỏa mãn hình chữ nhật\")\n",
    "        except ValueError:\n",
    "            print(\"Nhập đúng định dạng số\")\n",
    "\n",
    "\n",
    "print(ket_qua())\n"
   ],
   "id": "cfc748b178ae87fa",
   "outputs": [
    {
     "name": "stdout",
     "output_type": "stream",
     "text": [
      "Nhập đúng định dạng số\n",
      "Nhập đúng định dạng số\n",
      "Chiều rộng : 4.0\n",
      "Chiều dài : 5.0\n",
      "Diện tích thửa đất là : a.b =  20.0\n",
      "Diện tích hình tròn là : 12.56\n",
      "Diện tích trồng cây là : 20.0 - 12.56 = 7.44\n",
      "None\n"
     ]
    }
   ],
   "execution_count": 2
  },
  {
   "metadata": {
    "ExecuteTime": {
     "end_time": "2025-10-06T08:02:20.121479Z",
     "start_time": "2025-10-06T08:02:15.479884Z"
    }
   },
   "cell_type": "code",
   "source": [
    "#3\n",
    "def nhap_chu():\n",
    "    while True:\n",
    "        try :\n",
    "            ki_tu = input(\"Nhập 1 kí tự chữ cái: \")\n",
    "            a = ord(ki_tu)\n",
    "            if a >= 65 and a <= 90:\n",
    "                return (ki_tu).lower()\n",
    "                break\n",
    "            if a >= 97 and a <= 122:\n",
    "                return (ki_tu).upper()\n",
    "                break\n",
    "            else :\n",
    "                return\"Nhập lại kí tự\"\n",
    "        except ValueError:\n",
    "            print(\"Nhập đúng định dạng kí tự\")\n",
    "\n",
    "print(nhap_chu())"
   ],
   "id": "e4eebc6ea29540d0",
   "outputs": [
    {
     "name": "stdout",
     "output_type": "stream",
     "text": [
      "B\n"
     ]
    }
   ],
   "execution_count": 2
  },
  {
   "metadata": {
    "ExecuteTime": {
     "end_time": "2025-10-06T08:02:37.289744Z",
     "start_time": "2025-10-06T08:02:33.977627Z"
    }
   },
   "cell_type": "code",
   "source": [
    "#4\n",
    "def nhap_chu():\n",
    "    while True:\n",
    "        try :\n",
    "            ki_tu = input(\"Nhập 1 kí tự : \")\n",
    "            a = ord(ki_tu)\n",
    "            if a >= 65 and a <= 90:\n",
    "                return f\"{ki_tu} là một chữ cái alphabet\"\n",
    "                break\n",
    "            if a >= 97 and a <= 122:\n",
    "                return f\"{ki_tu} là một chữ cái alphabet\"\n",
    "                break\n",
    "            else :\n",
    "                return f\"{ki_tu} không phải là một chữ cái\"\n",
    "                break\n",
    "        except ValueError:\n",
    "            print(f\"{ki_tu} không phải là một chữ cái\")\n",
    "            break\n",
    "print(nhap_chu())"
   ],
   "id": "dc2b490054a1a10a",
   "outputs": [
    {
     "name": "stdout",
     "output_type": "stream",
     "text": [
      "g là một chữ cái alphabet\n"
     ]
    }
   ],
   "execution_count": 3
  },
  {
   "metadata": {
    "ExecuteTime": {
     "end_time": "2025-10-06T07:52:54.143073Z",
     "start_time": "2025-10-06T07:52:42.266039Z"
    }
   },
   "cell_type": "code",
   "source": [
    "#5\n",
    "def nhap_chu():\n",
    "    while True:\n",
    "        try :\n",
    "            ki_tu = input(\"Nhập 1 kí tự chữ cái: \")\n",
    "            a = ord(ki_tu)\n",
    "            b = a + 31\n",
    "            if a > 65 and a <= 90:\n",
    "                return(chr(b)).lower()\n",
    "                break\n",
    "            if a == 65:\n",
    "                return \"z\"\n",
    "                break\n",
    "            else :\n",
    "                print(\"Nhập lại kí tự\")\n",
    "        except ValueError:\n",
    "            print(\"Nhập đúng định dạng kí tự\")\n",
    "\n",
    "print(nhap_chu())"
   ],
   "id": "596109daf655dd3d",
   "outputs": [
    {
     "name": "stdout",
     "output_type": "stream",
     "text": [
      "Nhập lại kí tự\n",
      "Nhập lại kí tự\n",
      "j\n",
      "None\n"
     ]
    }
   ],
   "execution_count": 5
  },
  {
   "metadata": {
    "ExecuteTime": {
     "end_time": "2025-10-06T07:53:10.280919Z",
     "start_time": "2025-10-06T07:53:05.470612Z"
    }
   },
   "cell_type": "code",
   "source": [
    "#6\n",
    "from math import *\n",
    "def nhap_so():\n",
    "    while True:\n",
    "        try:\n",
    "            a , b , c = map(int, input(\"Nhập 3 cạnh a,b,c\").split())\n",
    "            d = (a + b + c)/2\n",
    "            e = (d-a)*(d-c)*(d - b)*d\n",
    "            if a + b > c and a + c > b and b + c > a:\n",
    "                return \"đây là 3 cạnh của 1 tam giác, diện tích tam giác trên là\",sqrt(e)\n",
    "                break\n",
    "            else:\n",
    "                return \"đây không phải 3 cạnh của 1 tam giác\"\n",
    "                break\n",
    "        except ValueError:\n",
    "            print(\"Nhập lại định dạng đúng\")\n",
    "\n",
    "print(nhap_so())"
   ],
   "id": "10cb71f28bb5392f",
   "outputs": [
    {
     "name": "stdout",
     "output_type": "stream",
     "text": [
      "đây là 3 cạnh của 1 tam giác, diện tích tam giác trên là 6.0\n",
      "None\n"
     ]
    }
   ],
   "execution_count": 6
  },
  {
   "metadata": {
    "ExecuteTime": {
     "end_time": "2025-10-06T07:53:32.989718Z",
     "start_time": "2025-10-06T07:53:25.506810Z"
    }
   },
   "cell_type": "code",
   "source": [
    "#7\n",
    "def nhap_chuoi():\n",
    "    while True:\n",
    "        try:\n",
    "            chuoi_nhap = input(\"Nhap 1 chuoi ki tu thuong bat ki co so luong >= 20:\").lower()\n",
    "            soluongkitu = len(chuoi_nhap)\n",
    "            print((chuoi_nhap).lower())\n",
    "            if soluongkitu >= 20:\n",
    "                print(f\"Chu cai thu 5 la {chuoi_nhap[5]}\\n chu cai thu 9 la {chuoi_nhap[9]}\")\n",
    "                break\n",
    "            if soluongkitu < 20:\n",
    "                print(\"Nhap lai\")\n",
    "                break\n",
    "        except ValueError:\n",
    "            print(\"Nhap dung day ki tu thuong\")\n",
    "print(nhap_chuoi())"
   ],
   "id": "63e8909b56a03494",
   "outputs": [
    {
     "name": "stdout",
     "output_type": "stream",
     "text": [
      "adwdwdwawdwadagfhgfhgfhgfh\n",
      "Chu cai thu 5 la d\n",
      " chu cai thu 9 la d\n",
      "None\n"
     ]
    }
   ],
   "execution_count": 7
  },
  {
   "metadata": {
    "ExecuteTime": {
     "end_time": "2025-10-06T08:05:00.629388Z",
     "start_time": "2025-10-06T08:04:49.636993Z"
    }
   },
   "cell_type": "code",
   "source": [
    "#8\n",
    "def tien_dien():\n",
    "    while True:\n",
    "        try:\n",
    "            ho_ten = input(\"Nhap ho ten chu ho\")\n",
    "            thang_truoc = int(input(\"Nhap chi so dien ke thang truoc theo KWh :\"))\n",
    "            thang_nay = int(input(\"Nhap chi so dien ke thang nay theo KWh :\"))\n",
    "            so_dien = thang_nay - thang_truoc\n",
    "            if so_dien >= 0 and so_dien <= 50:\n",
    "                print(\"Ho va ten: \", ho_ten)\n",
    "                print(\"Tien dien phai tra la :\", round((so_dien*1984)*1.08))\n",
    "                break\n",
    "            if so_dien >= 51 and so_dien <= 100:\n",
    "                print(\"Ho va ten: \", ho_ten)\n",
    "                print(\"Tien dien phai tra la :\",round((50*1984 + (so_dien - 50 )*2050)*1.08 ))\n",
    "                break\n",
    "            if so_dien >= 101 and so_dien <= 200:\n",
    "                print(\"Ho va ten: \", ho_ten)\n",
    "                print(\"Tien dien phai tra la :\", round((50 * 1984 + 50 *2050+ (so_dien - 100) * 2380)*1.08))\n",
    "                break\n",
    "            if so_dien >= 201 and so_dien <= 300:\n",
    "                print(\"Ho va ten: \", ho_ten)\n",
    "                print(\"Tien dien phai tra la :\", round((50 *1984 + 50 *2050 + 100*2380 +(so_dien-200)*2998)*1.08))\n",
    "                break\n",
    "            if so_dien >= 301 and so_dien <= 400:\n",
    "                print(\"Ho va ten: \", ho_ten)\n",
    "                print(\"Tien dien phai tra la:\",round((50 *1984 + 50 *2050 + 100*2380 + 100*2998 + (so_dien-300)*3350)*1.08))\n",
    "                break\n",
    "            if so_dien >= 401 :\n",
    "                print(\"Ho va ten: \", ho_ten)\n",
    "                print(\"Tien dien phai tra la :\",round((50 *1984 + 50 *2050 + 100*2380 + 100*2998 + 100*3350+ (so_dien -400)* 3460)*1.08))\n",
    "                break\n",
    "        except ValueError:\n",
    "            print(\"Nhap lai so tien hop le\")\n",
    "\n",
    "print(tien_dien())"
   ],
   "id": "68c43397ba55dc26",
   "outputs": [
    {
     "name": "stdout",
     "output_type": "stream",
     "text": [
      "Ho va ten:  Nguyen Xuan Hai\n",
      "\n",
      "Tien dien phai tra la : 474876\n",
      "None\n"
     ]
    }
   ],
   "execution_count": 4
  }
 ],
 "metadata": {
  "kernelspec": {
   "display_name": "Python 3",
   "language": "python",
   "name": "python3"
  },
  "language_info": {
   "codemirror_mode": {
    "name": "ipython",
    "version": 2
   },
   "file_extension": ".py",
   "mimetype": "text/x-python",
   "name": "python",
   "nbconvert_exporter": "python",
   "pygments_lexer": "ipython2",
   "version": "2.7.6"
  }
 },
 "nbformat": 4,
 "nbformat_minor": 5
}
